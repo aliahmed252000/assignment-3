{
 "cells": [
  {
   "cell_type": "code",
   "execution_count": 29,
   "id": "61c9b031",
   "metadata": {},
   "outputs": [
    {
     "name": "stdout",
     "output_type": "stream",
     "text": [
      "(English)\n",
      "Grade A\n"
     ]
    }
   ],
   "source": [
    "print(\"(English)\");\n",
    "percent = 76;\n",
    "if percent < 100 and percent > 80:\n",
    "    print(\"Grade A+\");\n",
    "elif percent < 80 and percent > 70:\n",
    "    print(\"Grade A\");\n",
    "elif percent < 70 and percent > 60:\n",
    "    print(\"Grade B\");\n",
    "elif percent < 60 and percent > 50: \n",
    "    print(\"Grade C\");\n",
    "elif percent < 50 and percent > 40: \n",
    "    print(\"Grade D\");\n",
    "elif percent < 40 and percent > 30:\n",
    "    print(\"Grade E\");    \n",
    "else:\n",
    "    print(\"Fail\");"
   ]
  },
  {
   "cell_type": "code",
   "execution_count": 31,
   "id": "b0a29e23",
   "metadata": {},
   "outputs": [
    {
     "name": "stdout",
     "output_type": "stream",
     "text": [
      "(Maths)\n",
      "Grade C\n"
     ]
    }
   ],
   "source": [
    "print(\"(Maths)\");\n",
    "percent = 52;\n",
    "if percent < 100 and percent > 80:\n",
    "    print(\"Grade A+\");\n",
    "elif percent < 80 and percent > 70:\n",
    "    print(\"Grade A\");\n",
    "elif percent < 70 and percent > 60:\n",
    "    print(\"Grade B\");\n",
    "elif percent < 60 and percent > 50: \n",
    "    print(\"Grade C\");\n",
    "elif percent < 50 and percent > 40: \n",
    "    print(\"Grade D\");\n",
    "elif percent < 40 and percent > 30:\n",
    "    print(\"Grade E\");    \n",
    "else:\n",
    "    print(\"Fail\");"
   ]
  },
  {
   "cell_type": "code",
   "execution_count": 32,
   "id": "e18371a5",
   "metadata": {},
   "outputs": [
    {
     "name": "stdout",
     "output_type": "stream",
     "text": [
      "(Islamiat)\n",
      "Fail\n"
     ]
    }
   ],
   "source": [
    "print(\"(Islamiat)\");\n",
    "percent = 27;\n",
    "if percent < 100 and percent > 80:\n",
    "    print(\"Grade A+\");\n",
    "elif percent < 80 and percent > 70:\n",
    "    print(\"Grade A\");\n",
    "elif percent < 70 and percent > 60:\n",
    "    print(\"Grade B\");\n",
    "elif percent < 60 and percent > 50: \n",
    "    print(\"Grade C\");\n",
    "elif percent < 50 and percent > 40: \n",
    "    print(\"Grade D\");\n",
    "elif percent < 40 and percent > 30:\n",
    "    print(\"Grade E\");    \n",
    "else:\n",
    "    print(\"Fail\");"
   ]
  },
  {
   "cell_type": "code",
   "execution_count": null,
   "id": "6ba214e7",
   "metadata": {},
   "outputs": [],
   "source": []
  },
  {
   "cell_type": "code",
   "execution_count": null,
   "id": "cde6fc63",
   "metadata": {},
   "outputs": [],
   "source": []
  },
  {
   "cell_type": "code",
   "execution_count": null,
   "id": "430ee91f",
   "metadata": {},
   "outputs": [],
   "source": []
  }
 ],
 "metadata": {
  "kernelspec": {
   "display_name": "Python 3",
   "language": "python",
   "name": "python3"
  },
  "language_info": {
   "codemirror_mode": {
    "name": "ipython",
    "version": 3
   },
   "file_extension": ".py",
   "mimetype": "text/x-python",
   "name": "python",
   "nbconvert_exporter": "python",
   "pygments_lexer": "ipython3",
   "version": "3.8.8"
  }
 },
 "nbformat": 4,
 "nbformat_minor": 5
}
